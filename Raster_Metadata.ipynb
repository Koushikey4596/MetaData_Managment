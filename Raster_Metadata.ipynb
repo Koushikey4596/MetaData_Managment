{
  "nbformat": 4,
  "nbformat_minor": 0,
  "metadata": {
    "colab": {
      "name": "Raster_Metadata.ipynb",
      "provenance": [],
      "collapsed_sections": [],
      "include_colab_link": true
    },
    "kernelspec": {
      "name": "python3",
      "display_name": "Python 3"
    }
  },
  "cells": [
    {
      "cell_type": "markdown",
      "metadata": {
        "id": "view-in-github",
        "colab_type": "text"
      },
      "source": [
        "<a href=\"https://colab.research.google.com/github/Koushikey4596/MetaData_Managment/blob/main/Raster_Metadata.ipynb\" target=\"_parent\"><img src=\"https://colab.research.google.com/assets/colab-badge.svg\" alt=\"Open In Colab\"/></a>"
      ]
    },
    {
      "cell_type": "code",
      "metadata": {
        "id": "5yU-7j6csYgD"
      },
      "source": [
        "pip install pyproj"
      ],
      "execution_count": null,
      "outputs": []
    },
    {
      "cell_type": "code",
      "metadata": {
        "id": "OvK6n446lyon"
      },
      "source": [
        "\n",
        "from osgeo import gdal,ogr,osr\n",
        "import os\n",
        "import pyproj\n",
        "from pyproj import Proj"
      ],
      "execution_count": null,
      "outputs": []
    },
    {
      "cell_type": "code",
      "metadata": {
        "id": "v2nHqsg2fz-s"
      },
      "source": [
        "from google.colab import drive\n",
        "drive.mount('/content/drive')"
      ],
      "execution_count": null,
      "outputs": []
    },
    {
      "cell_type": "code",
      "metadata": {
        "id": "VZLHmF7Ssm-L"
      },
      "source": [
        "#path=\"/content/20191020_subset.img\" \n",
        "path=\"/content/drive/My Drive/Dehradun_2019_rf.tif\"\n",
        "dataSource= gdal.Open(path)\n",
        "\n",
        "#File size attribute\n",
        "fileSizeInB=os.stat(path).st_size\n",
        "#print ('file size is ',fileSizeInB)\n",
        "\n",
        "#File format attribute\n",
        "driver=dataSource.GetDriver()\n",
        "fileType=dataSource.GetDriver().LongName\n",
        "#print('File format is ',fileType)\n",
        "\n",
        "\n",
        "\n",
        "#file projection and epsg code\n",
        "fileProjectionWKT=dataSource.GetProjection()\n",
        "projection_split=fileProjectionWKT.split(\",\")\n",
        "pro=projection_split[0].split('\"')\n",
        "fileProjection=pro[1]\n",
        "spatialRef = osr.SpatialReference(wkt=fileProjectionWKT)\n",
        "epsg=spatialRef.GetAuthorityCode(None)\n",
        "#print('ile projection is ',fileProjection,' and epsg code is', epsg)\n",
        "\n",
        "\n",
        "def GetExtent(gt,cols,rows):\n",
        "    ext=[]\n",
        "    xarr=[0,cols]\n",
        "    yarr=[0,rows]\n",
        "\n",
        "    for px in xarr:\n",
        "        for py in yarr:\n",
        "            x=gt[0]+(px*gt[1])+(py*gt[2])\n",
        "            y=gt[3]+(px*gt[4])+(py*gt[5])\n",
        "            ext.append([x,y])\n",
        "            \n",
        "        yarr.reverse()\n",
        "    return ext\n",
        "\n",
        "#Raster rows colum and bands\n",
        "gt=dataSource.GetGeoTransform()\n",
        "cols = dataSource.RasterXSize\n",
        "rows = dataSource.RasterYSize\n",
        "bands=dataSource.RasterCount\n",
        "#print(\"Raster Size is colum X Row X Bands : {} x {} x {}\".format(cols,rows,bands))\n",
        "\n",
        "#bounding box coordinates in wgs84\n",
        "ext=GetExtent(gt,cols,rows)\n",
        "wgs84=pyproj.CRS(\"EPSG:4326\")\n",
        "x_min, x_max, y_min, y_max = ext[0][0],ext[2][0],ext[1][1],ext[0][1]\n",
        "fileProj4=spatialRef.ExportToProj4()\n",
        "filecoordinate=pyproj.CRS(fileProj4)\n",
        "West,South =pyproj.transform(filecoordinate,wgs84,x_min,y_min)\n",
        "East,North =pyproj.transform(filecoordinate,wgs84,x_max, y_max)\n",
        "#print(\"The bounding box coordinates are \", North,East,South, West)\n",
        "\n",
        "\n"
      ],
      "execution_count": null,
      "outputs": []
    },
    {
      "cell_type": "code",
      "metadata": {
        "id": "uoiT__XjgZm_"
      },
      "source": [
        ""
      ],
      "execution_count": null,
      "outputs": []
    },
    {
      "cell_type": "code",
      "metadata": {
        "id": "Y10O6iNWgZDv"
      },
      "source": [
        ""
      ],
      "execution_count": null,
      "outputs": []
    },
    {
      "cell_type": "code",
      "metadata": {
        "id": "0nTcN-cNss3l"
      },
      "source": [
        "def getFormat(dataset):\n",
        "  print(\"Driver: {}/{}\".format(dataset.GetDriver().ShortName,dataset.GetDriver().LongName))\n",
        "  return (dataset.GetDriver().ShortName,dataset.GetDriver().LongName)\n",
        "\n",
        "def getSize(dataset):\n",
        "  print(\"Size is {} x {} x {}\".format(dataset.RasterXSize,dataset.RasterYSize,dataset.RasterCount))\n",
        "  return (dataset.RasterXSize,dataset.RasterYSize,dataset.RasterCount)\n",
        "\n",
        "def getProjection(dataset):\n",
        "  print(\"Projection is {}\".format(dataset.GetProjection()))\n",
        "  return (dataset.GetProjection())\n",
        "\n",
        "def getgeoTransform(dataset):\n",
        "  print(\"Origin = ({}, {})\".format(dataset.GetGeoTransform()[0], dataset.GetGeoTransform()[3]))\n",
        "  print(\"Pixel Size = ({}, {})\".format(dataset.GetGeoTransform()[1], dataset.GetGeoTransform()[5]))\n",
        "  return\n",
        "  "
      ],
      "execution_count": null,
      "outputs": []
    },
    {
      "cell_type": "code",
      "metadata": {
        "id": "ctWGqROgstu8"
      },
      "source": [
        "getFormat(dataset)"
      ],
      "execution_count": null,
      "outputs": []
    },
    {
      "cell_type": "code",
      "metadata": {
        "id": "jGtD7pmNu4Vi"
      },
      "source": [
        "getSize(dataset)"
      ],
      "execution_count": null,
      "outputs": []
    },
    {
      "cell_type": "code",
      "metadata": {
        "id": "PC3VBq4bvES9"
      },
      "source": [
        "getProjection(dataset)"
      ],
      "execution_count": null,
      "outputs": []
    },
    {
      "cell_type": "code",
      "metadata": {
        "id": "8HyVNhv7wypY",
        "colab": {
          "base_uri": "https://localhost:8080/",
          "height": 34
        },
        "outputId": "62f1691a-68bf-48a4-84a7-0b29e7308ed3"
      },
      "source": [
        "dataset.GetGeoTransform()"
      ],
      "execution_count": null,
      "outputs": [
        {
          "output_type": "execute_result",
          "data": {
            "text/plain": [
              "(604821.5061362609, 10.0, 0.0, 3368029.412673252, 0.0, -10.0)"
            ]
          },
          "metadata": {
            "tags": []
          },
          "execution_count": 47
        }
      ]
    },
    {
      "cell_type": "code",
      "metadata": {
        "id": "6GiQnWticME0"
      },
      "source": [
        "dataset.RasterCount"
      ],
      "execution_count": null,
      "outputs": []
    },
    {
      "cell_type": "code",
      "metadata": {
        "id": "90sBcnw2CAEn"
      },
      "source": [
        "getgeoTransform(dataset)"
      ],
      "execution_count": null,
      "outputs": []
    }
  ]
}